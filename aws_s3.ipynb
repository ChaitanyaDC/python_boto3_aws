{
 "cells": [
  {
   "cell_type": "code",
   "execution_count": 1,
   "metadata": {},
   "outputs": [],
   "source": [
    "import boto3\n",
    "import os \n",
    "import sys \n",
    "import pandas as pd\n",
    "import datetime\n",
    "import matplotlib.pyplot as plt\n",
    "%matplotlib inline "
   ]
  },
  {
   "cell_type": "code",
   "execution_count": 2,
   "metadata": {},
   "outputs": [
    {
     "data": {
      "text/plain": [
       "'222024'"
      ]
     },
     "execution_count": 2,
     "metadata": {},
     "output_type": "execute_result"
    }
   ],
   "source": [
    "d = datetime.datetime.now()\n",
    "Current_Date= \"{}{}{}\".format(d.month, d.day, d.year)\n",
    "Current_Date"
   ]
  },
  {
   "cell_type": "code",
   "execution_count": 3,
   "metadata": {},
   "outputs": [],
   "source": [
    "client = boto3.client('s3')\n",
    "\n",
    "response = client.create_bucket(ACL='private',\n",
    "                                Bucket='chaitanya{}'.format(Current_Date),\n",
    "                                CreateBucketConfiguration={\n",
    "                                    'LocationConstraint': 'us-east-2'\n",
    "                                }\n",
    "                               )"
   ]
  },
  {
   "cell_type": "code",
   "execution_count": 4,
   "metadata": {},
   "outputs": [
    {
     "data": {
      "text/plain": [
       "['.git',\n",
       " 'aws_dynamodb.ipynb',\n",
       " 'aws_dynamodb.py',\n",
       " 'aws_s3.ipynb',\n",
       " 'pse.png',\n",
       " 'vanmoof cycle.jpg',\n",
       " 'vanmoof-logo.jpg']"
      ]
     },
     "execution_count": 4,
     "metadata": {},
     "output_type": "execute_result"
    }
   ],
   "source": [
    "os.listdir()"
   ]
  },
  {
   "cell_type": "markdown",
   "metadata": {},
   "source": [
    "Add item to bucket"
   ]
  },
  {
   "cell_type": "code",
   "execution_count": 5,
   "metadata": {},
   "outputs": [],
   "source": [
    "with open(\"vanmoof-logo.jpg\" , \"rb\") as f:\n",
    "    data = f.read()"
   ]
  },
  {
   "cell_type": "code",
   "execution_count": 7,
   "metadata": {},
   "outputs": [
    {
     "data": {
      "text/plain": [
       "bytes"
      ]
     },
     "execution_count": 7,
     "metadata": {},
     "output_type": "execute_result"
    }
   ],
   "source": [
    "type(data)"
   ]
  },
  {
   "cell_type": "code",
   "execution_count": 8,
   "metadata": {},
   "outputs": [],
   "source": [
    "response = client.put_object(\n",
    "    ACL='private',\n",
    "    Body=data,\n",
    "    Bucket='chaitanya222024',\n",
    "    Key='vanmoof-logo.jpg'\n",
    ")"
   ]
  },
  {
   "cell_type": "code",
   "execution_count": 9,
   "metadata": {},
   "outputs": [
    {
     "data": {
      "text/plain": [
       "{'ResponseMetadata': {'RequestId': '32WVB77N257H4Z0K',\n",
       "  'HostId': '4mILCdFPQXmUpkJP4fw4l1SvdfcLnf52jPmMHeZZWV+2DFMUpBxdKWBgyeqKsMzwc3JfOueC+ayRP6IC+fuNEQ==',\n",
       "  'HTTPStatusCode': 200,\n",
       "  'HTTPHeaders': {'x-amz-id-2': '4mILCdFPQXmUpkJP4fw4l1SvdfcLnf52jPmMHeZZWV+2DFMUpBxdKWBgyeqKsMzwc3JfOueC+ayRP6IC+fuNEQ==',\n",
       "   'x-amz-request-id': '32WVB77N257H4Z0K',\n",
       "   'date': 'Fri, 02 Feb 2024 08:41:13 GMT',\n",
       "   'x-amz-server-side-encryption': 'AES256',\n",
       "   'etag': '\"96cb243ceccd6b3f287764563ac9c3db\"',\n",
       "   'server': 'AmazonS3',\n",
       "   'content-length': '0'},\n",
       "  'RetryAttempts': 0},\n",
       " 'ETag': '\"96cb243ceccd6b3f287764563ac9c3db\"',\n",
       " 'ServerSideEncryption': 'AES256'}"
      ]
     },
     "execution_count": 9,
     "metadata": {},
     "output_type": "execute_result"
    }
   ],
   "source": [
    "response"
   ]
  },
  {
   "cell_type": "code",
   "execution_count": 12,
   "metadata": {},
   "outputs": [
    {
     "data": {
      "text/plain": [
       "{'ResponseMetadata': {'RequestId': 'J2AEJ2D4FESVHNVC',\n",
       "  'HostId': '2twlMxWdTMJnrnBssexujJ7/0cxtv1vZBt5lj6LxH3IfZsrZ2yz0R7PWME5a6lTULQwVXel1aWU=',\n",
       "  'HTTPStatusCode': 200,\n",
       "  'HTTPHeaders': {'x-amz-id-2': '2twlMxWdTMJnrnBssexujJ7/0cxtv1vZBt5lj6LxH3IfZsrZ2yz0R7PWME5a6lTULQwVXel1aWU=',\n",
       "   'x-amz-request-id': 'J2AEJ2D4FESVHNVC',\n",
       "   'date': 'Fri, 02 Feb 2024 08:49:46 GMT',\n",
       "   'x-amz-server-side-encryption': 'AES256',\n",
       "   'etag': '\"2accf46846f5966e7458491fdffac41a\"',\n",
       "   'server': 'AmazonS3',\n",
       "   'content-length': '0'},\n",
       "  'RetryAttempts': 0},\n",
       " 'ETag': '\"2accf46846f5966e7458491fdffac41a\"',\n",
       " 'ServerSideEncryption': 'AES256'}"
      ]
     },
     "execution_count": 12,
     "metadata": {},
     "output_type": "execute_result"
    }
   ],
   "source": [
    "with open(\"pse.png\" , \"rb\") as f:\n",
    "    pse = f.read()\n",
    "\n",
    "response = client.put_object(\n",
    "    ACL='private',\n",
    "    Body=pse,\n",
    "    Bucket='chaitanya222024',\n",
    "    Key='pse.png'\n",
    ")\n",
    "response"
   ]
  },
  {
   "cell_type": "markdown",
   "metadata": {},
   "source": [
    "Delete item from bucket"
   ]
  },
  {
   "cell_type": "code",
   "execution_count": 11,
   "metadata": {},
   "outputs": [
    {
     "data": {
      "text/plain": [
       "{'ResponseMetadata': {'RequestId': 'EFB0AJ6RRTNRH320',\n",
       "  'HostId': 'ShNjA8TJxI6jJOHmi5nkImtFc9gcpQAaIBnhe1jK6LgyGQyxzr+ilDrgSX5MZxVzUomXNBD7IB2ToYXoxpFtwg==',\n",
       "  'HTTPStatusCode': 204,\n",
       "  'HTTPHeaders': {'x-amz-id-2': 'ShNjA8TJxI6jJOHmi5nkImtFc9gcpQAaIBnhe1jK6LgyGQyxzr+ilDrgSX5MZxVzUomXNBD7IB2ToYXoxpFtwg==',\n",
       "   'x-amz-request-id': 'EFB0AJ6RRTNRH320',\n",
       "   'date': 'Fri, 02 Feb 2024 08:49:14 GMT',\n",
       "   'server': 'AmazonS3'},\n",
       "  'RetryAttempts': 0}}"
      ]
     },
     "execution_count": 11,
     "metadata": {},
     "output_type": "execute_result"
    }
   ],
   "source": [
    "response = client.delete_object(\n",
    "    Bucket='chaitanya222024',\n",
    "    Key=\"pse.png\"\n",
    ")\n",
    "response"
   ]
  },
  {
   "cell_type": "markdown",
   "metadata": {},
   "source": [
    "GET all object in bucket"
   ]
  },
  {
   "cell_type": "code",
   "execution_count": 21,
   "metadata": {},
   "outputs": [
    {
     "data": {
      "text/plain": [
       "{'ResponseMetadata': {'RequestId': 'Y4PB87998ANRCBHJ',\n",
       "  'HostId': 'VxTR54lbAWhPLY7jTgxDvE1kRSthpSn+u7HVI7BFtGeoXb1HQkjajJuoO9gFv5KlvyCrthD10WmTvPv4FZEZKQ==',\n",
       "  'HTTPStatusCode': 200,\n",
       "  'HTTPHeaders': {'x-amz-id-2': 'VxTR54lbAWhPLY7jTgxDvE1kRSthpSn+u7HVI7BFtGeoXb1HQkjajJuoO9gFv5KlvyCrthD10WmTvPv4FZEZKQ==',\n",
       "   'x-amz-request-id': 'Y4PB87998ANRCBHJ',\n",
       "   'date': 'Fri, 02 Feb 2024 09:40:32 GMT',\n",
       "   'last-modified': 'Fri, 02 Feb 2024 08:49:46 GMT',\n",
       "   'etag': '\"2accf46846f5966e7458491fdffac41a\"',\n",
       "   'x-amz-server-side-encryption': 'AES256',\n",
       "   'accept-ranges': 'bytes',\n",
       "   'content-type': 'binary/octet-stream',\n",
       "   'server': 'AmazonS3',\n",
       "   'content-length': '9639'},\n",
       "  'RetryAttempts': 0},\n",
       " 'AcceptRanges': 'bytes',\n",
       " 'LastModified': datetime.datetime(2024, 2, 2, 8, 49, 46, tzinfo=tzutc()),\n",
       " 'ContentLength': 9639,\n",
       " 'ETag': '\"2accf46846f5966e7458491fdffac41a\"',\n",
       " 'ContentType': 'binary/octet-stream',\n",
       " 'ServerSideEncryption': 'AES256',\n",
       " 'Metadata': {},\n",
       " 'Body': <botocore.response.StreamingBody at 0x1fa2b3b5d80>}"
      ]
     },
     "execution_count": 21,
     "metadata": {},
     "output_type": "execute_result"
    }
   ],
   "source": [
    "response = client.get_object(Bucket='chaitanya222024', Key=\"pse.png\")\n",
    "response"
   ]
  },
  {
   "cell_type": "code",
   "execution_count": 13,
   "metadata": {},
   "outputs": [
    {
     "data": {
      "text/plain": [
       "{'ResponseMetadata': {'RequestId': '6JNWX8PJJ36E32RY',\n",
       "  'HostId': 'q3R44HG5lZW4irhmkTameENo2Z5rrCPTb8CGggESTe6BOrVzdBp71LwHTCKAAyBSTO7/XsdU2/0=',\n",
       "  'HTTPStatusCode': 200,\n",
       "  'HTTPHeaders': {'x-amz-id-2': 'q3R44HG5lZW4irhmkTameENo2Z5rrCPTb8CGggESTe6BOrVzdBp71LwHTCKAAyBSTO7/XsdU2/0=',\n",
       "   'x-amz-request-id': '6JNWX8PJJ36E32RY',\n",
       "   'date': 'Fri, 02 Feb 2024 08:52:39 GMT',\n",
       "   'x-amz-bucket-region': 'us-east-2',\n",
       "   'content-type': 'application/xml',\n",
       "   'transfer-encoding': 'chunked',\n",
       "   'server': 'AmazonS3'},\n",
       "  'RetryAttempts': 0},\n",
       " 'IsTruncated': False,\n",
       " 'Marker': '',\n",
       " 'Contents': [{'Key': 'pse.png',\n",
       "   'LastModified': datetime.datetime(2024, 2, 2, 8, 49, 46, tzinfo=tzutc()),\n",
       "   'ETag': '\"2accf46846f5966e7458491fdffac41a\"',\n",
       "   'Size': 9639,\n",
       "   'StorageClass': 'STANDARD',\n",
       "   'Owner': {'ID': 'cd3d5fca17f988603430208eb9a408455d7c4c1667a155d82438e0d06b9d4646'}},\n",
       "  {'Key': 'vanmoof-logo.jpg',\n",
       "   'LastModified': datetime.datetime(2024, 2, 2, 8, 41, 13, tzinfo=tzutc()),\n",
       "   'ETag': '\"96cb243ceccd6b3f287764563ac9c3db\"',\n",
       "   'Size': 4826,\n",
       "   'StorageClass': 'STANDARD',\n",
       "   'Owner': {'ID': 'cd3d5fca17f988603430208eb9a408455d7c4c1667a155d82438e0d06b9d4646'}}],\n",
       " 'Name': 'chaitanya222024',\n",
       " 'Prefix': '',\n",
       " 'MaxKeys': 1000,\n",
       " 'EncodingType': 'url'}"
      ]
     },
     "execution_count": 13,
     "metadata": {},
     "output_type": "execute_result"
    }
   ],
   "source": [
    "response = client.list_objects(Bucket='chaitanya222024')\n",
    "response"
   ]
  },
  {
   "cell_type": "code",
   "execution_count": 17,
   "metadata": {},
   "outputs": [
    {
     "name": "stdout",
     "output_type": "stream",
     "text": [
      "pse.png\n",
      "vanmoof-logo.jpg\n"
     ]
    }
   ],
   "source": [
    "for x in response[\"Contents\"]:\n",
    "    print(x.get(\"Key\", None))"
   ]
  },
  {
   "cell_type": "markdown",
   "metadata": {},
   "source": [
    "List of buckets"
   ]
  },
  {
   "cell_type": "code",
   "execution_count": 18,
   "metadata": {},
   "outputs": [
    {
     "data": {
      "text/plain": [
       "{'ResponseMetadata': {'RequestId': '68TKKNC7SPKAHE9Z',\n",
       "  'HostId': 'M/EQx+S1dO0X8V/626WafhQszYhKcZP5GZvHFgKBc6ozN2U2SojKexDW5iXa9ZgOyVyAph3F+vA=',\n",
       "  'HTTPStatusCode': 200,\n",
       "  'HTTPHeaders': {'x-amz-id-2': 'M/EQx+S1dO0X8V/626WafhQszYhKcZP5GZvHFgKBc6ozN2U2SojKexDW5iXa9ZgOyVyAph3F+vA=',\n",
       "   'x-amz-request-id': '68TKKNC7SPKAHE9Z',\n",
       "   'date': 'Fri, 02 Feb 2024 08:54:48 GMT',\n",
       "   'content-type': 'application/xml',\n",
       "   'transfer-encoding': 'chunked',\n",
       "   'server': 'AmazonS3'},\n",
       "  'RetryAttempts': 0},\n",
       " 'Buckets': [{'Name': 'chaitanya222024',\n",
       "   'CreationDate': datetime.datetime(2024, 2, 2, 8, 38, 24, tzinfo=tzutc())}],\n",
       " 'Owner': {'ID': 'cd3d5fca17f988603430208eb9a408455d7c4c1667a155d82438e0d06b9d4646'}}"
      ]
     },
     "execution_count": 18,
     "metadata": {},
     "output_type": "execute_result"
    }
   ],
   "source": [
    "response = client.list_buckets()\n",
    "response"
   ]
  },
  {
   "cell_type": "code",
   "execution_count": 19,
   "metadata": {},
   "outputs": [
    {
     "name": "stdout",
     "output_type": "stream",
     "text": [
      "chaitanya222024\n"
     ]
    }
   ],
   "source": [
    "for x in response[\"Buckets\"]:\n",
    "    print(x.get(\"Name\", None))"
   ]
  }
 ],
 "metadata": {
  "kernelspec": {
   "display_name": "Python 3",
   "language": "python",
   "name": "python3"
  },
  "language_info": {
   "codemirror_mode": {
    "name": "ipython",
    "version": 3
   },
   "file_extension": ".py",
   "mimetype": "text/x-python",
   "name": "python",
   "nbconvert_exporter": "python",
   "pygments_lexer": "ipython3",
   "version": "3.10.0"
  }
 },
 "nbformat": 4,
 "nbformat_minor": 2
}
