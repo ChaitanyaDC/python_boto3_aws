{
 "cells": [
  {
   "cell_type": "code",
   "execution_count": 1,
   "metadata": {},
   "outputs": [],
   "source": [
    "import boto3\n",
    "import os \n",
    "import sys \n",
    "import pandas as pd\n",
    "import datetime\n",
    "import matplotlib.pyplot as plt\n",
    "%matplotlib inline "
   ]
  },
  {
   "cell_type": "code",
   "execution_count": 2,
   "metadata": {},
   "outputs": [
    {
     "data": {
      "text/plain": [
       "'222024'"
      ]
     },
     "execution_count": 2,
     "metadata": {},
     "output_type": "execute_result"
    }
   ],
   "source": [
    "d = datetime.datetime.now()\n",
    "Current_Date= \"{}{}{}\".format(d.month, d.day, d.year)\n",
    "Current_Date"
   ]
  },
  {
   "cell_type": "code",
   "execution_count": 3,
   "metadata": {},
   "outputs": [],
   "source": [
    "client = boto3.client('s3')\n",
    "\n",
    "response = client.create_bucket(ACL='private',\n",
    "                                Bucket='chaitanya{}'.format(Current_Date),\n",
    "                                CreateBucketConfiguration={\n",
    "                                    'LocationConstraint': 'us-east-2'\n",
    "                                }\n",
    "                               )"
   ]
  },
  {
   "cell_type": "code",
   "execution_count": 4,
   "metadata": {},
   "outputs": [
    {
     "data": {
      "text/plain": [
       "['.git',\n",
       " 'aws_dynamodb.ipynb',\n",
       " 'aws_dynamodb.py',\n",
       " 'aws_s3.ipynb',\n",
       " 'pse.png',\n",
       " 'vanmoof cycle.jpg',\n",
       " 'vanmoof-logo.jpg']"
      ]
     },
     "execution_count": 4,
     "metadata": {},
     "output_type": "execute_result"
    }
   ],
   "source": [
    "os.listdir()"
   ]
  },
  {
   "cell_type": "markdown",
   "metadata": {},
   "source": [
    "Add item to bucket"
   ]
  },
  {
   "cell_type": "code",
   "execution_count": 5,
   "metadata": {},
   "outputs": [],
   "source": [
    "with open(\"vanmoof-logo.jpg\" , \"rb\") as f:\n",
    "    data = f.read()"
   ]
  },
  {
   "cell_type": "code",
   "execution_count": 7,
   "metadata": {},
   "outputs": [
    {
     "data": {
      "text/plain": [
       "bytes"
      ]
     },
     "execution_count": 7,
     "metadata": {},
     "output_type": "execute_result"
    }
   ],
   "source": [
    "type(data)"
   ]
  },
  {
   "cell_type": "code",
   "execution_count": 8,
   "metadata": {},
   "outputs": [],
   "source": [
    "response = client.put_object(\n",
    "    ACL='private',\n",
    "    Body=data,\n",
    "    Bucket='chaitanya222024',\n",
    "    Key='vanmoof-logo.jpg'\n",
    ")"
   ]
  },
  {
   "cell_type": "code",
   "execution_count": 9,
   "metadata": {},
   "outputs": [
    {
     "data": {
      "text/plain": [
       "{'ResponseMetadata': {'RequestId': '32WVB77N257H4Z0K',\n",
       "  'HostId': '4mILCdFPQXmUpkJP4fw4l1SvdfcLnf52jPmMHeZZWV+2DFMUpBxdKWBgyeqKsMzwc3JfOueC+ayRP6IC+fuNEQ==',\n",
       "  'HTTPStatusCode': 200,\n",
       "  'HTTPHeaders': {'x-amz-id-2': '4mILCdFPQXmUpkJP4fw4l1SvdfcLnf52jPmMHeZZWV+2DFMUpBxdKWBgyeqKsMzwc3JfOueC+ayRP6IC+fuNEQ==',\n",
       "   'x-amz-request-id': '32WVB77N257H4Z0K',\n",
       "   'date': 'Fri, 02 Feb 2024 08:41:13 GMT',\n",
       "   'x-amz-server-side-encryption': 'AES256',\n",
       "   'etag': '\"96cb243ceccd6b3f287764563ac9c3db\"',\n",
       "   'server': 'AmazonS3',\n",
       "   'content-length': '0'},\n",
       "  'RetryAttempts': 0},\n",
       " 'ETag': '\"96cb243ceccd6b3f287764563ac9c3db\"',\n",
       " 'ServerSideEncryption': 'AES256'}"
      ]
     },
     "execution_count": 9,
     "metadata": {},
     "output_type": "execute_result"
    }
   ],
   "source": [
    "response"
   ]
  },
  {
   "cell_type": "code",
   "execution_count": 10,
   "metadata": {},
   "outputs": [
    {
     "data": {
      "text/plain": [
       "{'ResponseMetadata': {'RequestId': 'DDBTKE58HPQGWS4P',\n",
       "  'HostId': '/kNOS7JtxYGWMuv+Av/V8cYJ/FaFzStXTW0/nM51p2KICUPAoBNFqB59vVTOcrvCuuKLytZZMvXQhzinFmVZYw==',\n",
       "  'HTTPStatusCode': 200,\n",
       "  'HTTPHeaders': {'x-amz-id-2': '/kNOS7JtxYGWMuv+Av/V8cYJ/FaFzStXTW0/nM51p2KICUPAoBNFqB59vVTOcrvCuuKLytZZMvXQhzinFmVZYw==',\n",
       "   'x-amz-request-id': 'DDBTKE58HPQGWS4P',\n",
       "   'date': 'Fri, 02 Feb 2024 08:46:27 GMT',\n",
       "   'x-amz-server-side-encryption': 'AES256',\n",
       "   'etag': '\"2accf46846f5966e7458491fdffac41a\"',\n",
       "   'server': 'AmazonS3',\n",
       "   'content-length': '0'},\n",
       "  'RetryAttempts': 0},\n",
       " 'ETag': '\"2accf46846f5966e7458491fdffac41a\"',\n",
       " 'ServerSideEncryption': 'AES256'}"
      ]
     },
     "execution_count": 10,
     "metadata": {},
     "output_type": "execute_result"
    }
   ],
   "source": [
    "with open(\"pse.png\" , \"rb\") as f:\n",
    "    pse = f.read()\n",
    "\n",
    "response = client.put_object(\n",
    "    ACL='private',\n",
    "    Body=pse,\n",
    "    Bucket='chaitanya222024',\n",
    "    Key='pse.png'\n",
    ")\n",
    "response"
   ]
  },
  {
   "cell_type": "markdown",
   "metadata": {},
   "source": [
    "Delete item from bucket"
   ]
  },
  {
   "cell_type": "code",
   "execution_count": 11,
   "metadata": {},
   "outputs": [
    {
     "data": {
      "text/plain": [
       "{'ResponseMetadata': {'RequestId': 'EFB0AJ6RRTNRH320',\n",
       "  'HostId': 'ShNjA8TJxI6jJOHmi5nkImtFc9gcpQAaIBnhe1jK6LgyGQyxzr+ilDrgSX5MZxVzUomXNBD7IB2ToYXoxpFtwg==',\n",
       "  'HTTPStatusCode': 204,\n",
       "  'HTTPHeaders': {'x-amz-id-2': 'ShNjA8TJxI6jJOHmi5nkImtFc9gcpQAaIBnhe1jK6LgyGQyxzr+ilDrgSX5MZxVzUomXNBD7IB2ToYXoxpFtwg==',\n",
       "   'x-amz-request-id': 'EFB0AJ6RRTNRH320',\n",
       "   'date': 'Fri, 02 Feb 2024 08:49:14 GMT',\n",
       "   'server': 'AmazonS3'},\n",
       "  'RetryAttempts': 0}}"
      ]
     },
     "execution_count": 11,
     "metadata": {},
     "output_type": "execute_result"
    }
   ],
   "source": [
    "response = client.delete_object(\n",
    "    Bucket='chaitanya222024',\n",
    "    Key=\"pse.png\"\n",
    ")\n",
    "response"
   ]
  }
 ],
 "metadata": {
  "kernelspec": {
   "display_name": "Python 3",
   "language": "python",
   "name": "python3"
  },
  "language_info": {
   "codemirror_mode": {
    "name": "ipython",
    "version": 3
   },
   "file_extension": ".py",
   "mimetype": "text/x-python",
   "name": "python",
   "nbconvert_exporter": "python",
   "pygments_lexer": "ipython3",
   "version": "3.10.0"
  }
 },
 "nbformat": 4,
 "nbformat_minor": 2
}
