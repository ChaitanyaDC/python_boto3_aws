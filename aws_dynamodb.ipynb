{
 "cells": [
  {
   "cell_type": "code",
   "execution_count": 2,
   "metadata": {},
   "outputs": [
    {
     "name": "stdout",
     "output_type": "stream",
     "text": [
      "All Modules Loaded ...... \n"
     ]
    }
   ],
   "source": [
    "import os\n",
    "import sys\n",
    "import datetime\n",
    "import time\n",
    "import boto3\n",
    "print(\"All Modules Loaded ...... \")\n"
   ]
  },
  {
   "cell_type": "code",
   "execution_count": 39,
   "metadata": {},
   "outputs": [],
   "source": [
    "class MyDb(object):\n",
    "\n",
    "    def __init__(self, Table_Name ='employees'):\n",
    "        self.Table_Name=Table_Name\n",
    "        self.db = boto3.resource('dynamodb')\n",
    "        self.table = self.db.Table(Table_Name)\n",
    "\n",
    "        self.client = boto3.client('dynamodb')\n",
    "\n",
    "    @property\n",
    "    def get(self, emp_id= '1'):\n",
    "        response = self.table.get_item(\n",
    "            Key={\n",
    "                'emp_id':emp_id\n",
    "            }\n",
    "        )\n",
    "\n",
    "        return response\n",
    "\n",
    "    def put(self, emp_id='' , name='', age=''):\n",
    "        self.table.put_item(\n",
    "            Item={\n",
    "                'emp_id':emp_id,\n",
    "                'name':name,\n",
    "                'age':age\n",
    "            }\n",
    "        )\n",
    "\n",
    "    def delete(self, emp_id=''):\n",
    "        self.table.delete_item(\n",
    "            Key={\n",
    "                'emp_id':emp_id\n",
    "            }\n",
    "        )\n",
    "\n",
    "    def describe_table(self):\n",
    "        response = self.client.describe_table(\n",
    "            TableName='employees'\n",
    "        )\n",
    "        return response"
   ]
  },
  {
   "cell_type": "code",
   "execution_count": 40,
   "metadata": {},
   "outputs": [
    {
     "name": "stdout",
     "output_type": "stream",
     "text": [
      "{'Table': {'AttributeDefinitions': [{'AttributeName': 'emp_id', 'AttributeType': 'S'}], 'TableName': 'employees', 'KeySchema': [{'AttributeName': 'emp_id', 'KeyType': 'HASH'}], 'TableStatus': 'ACTIVE', 'CreationDateTime': datetime.datetime(2024, 2, 1, 1, 27, 44, 249000, tzinfo=tzlocal()), 'ProvisionedThroughput': {'LastDecreaseDateTime': datetime.datetime(2024, 2, 1, 1, 40, 30, 204000, tzinfo=tzlocal()), 'NumberOfDecreasesToday': 2, 'ReadCapacityUnits': 1, 'WriteCapacityUnits': 1}, 'TableSizeBytes': 0, 'ItemCount': 0, 'TableArn': 'arn:aws:dynamodb:us-east-2:762577889377:table/employees', 'TableId': '4f9c84d8-9772-4231-9ad5-5b3cad274838', 'TableClassSummary': {'TableClass': 'STANDARD'}, 'DeletionProtectionEnabled': False}, 'ResponseMetadata': {'RequestId': '506M6LP75T4GKR7C2T4S1VPHO3VV4KQNSO5AEMVJF66Q9ASUAAJG', 'HTTPStatusCode': 200, 'HTTPHeaders': {'server': 'Server', 'date': 'Thu, 01 Feb 2024 10:31:28 GMT', 'content-type': 'application/x-amz-json-1.0', 'content-length': '593', 'connection': 'keep-alive', 'x-amzn-requestid': '506M6LP75T4GKR7C2T4S1VPHO3VV4KQNSO5AEMVJF66Q9ASUAAJG', 'x-amz-crc32': '2946177053'}, 'RetryAttempts': 0}}\n"
     ]
    }
   ],
   "source": [
    "obj = MyDb()\n",
    "print(obj.describe_table())"
   ]
  },
  {
   "cell_type": "code",
   "execution_count": 41,
   "metadata": {},
   "outputs": [
    {
     "data": {
      "text/plain": [
       "{'Item': {'name': 'Chaitanya Dayanand Chaudhari', 'emp_id': '1'},\n",
       " 'ResponseMetadata': {'RequestId': 'HCE1DGUN7777G0FSG731M7F41BVV4KQNSO5AEMVJF66Q9ASUAAJG',\n",
       "  'HTTPStatusCode': 200,\n",
       "  'HTTPHeaders': {'server': 'Server',\n",
       "   'date': 'Thu, 01 Feb 2024 10:31:31 GMT',\n",
       "   'content-type': 'application/x-amz-json-1.0',\n",
       "   'content-length': '73',\n",
       "   'connection': 'keep-alive',\n",
       "   'x-amzn-requestid': 'HCE1DGUN7777G0FSG731M7F41BVV4KQNSO5AEMVJF66Q9ASUAAJG',\n",
       "   'x-amz-crc32': '609432471'},\n",
       "  'RetryAttempts': 0}}"
      ]
     },
     "execution_count": 41,
     "metadata": {},
     "output_type": "execute_result"
    }
   ],
   "source": [
    "data = obj.get\n",
    "data"
   ]
  },
  {
   "cell_type": "code",
   "execution_count": 42,
   "metadata": {},
   "outputs": [],
   "source": [
    "resp = obj.put(emp_id=\"3\", name= \"Sanket Salunke\", age=\"30\")\n",
    "resp"
   ]
  },
  {
   "cell_type": "code",
   "execution_count": 38,
   "metadata": {},
   "outputs": [
    {
     "name": "stdout",
     "output_type": "stream",
     "text": [
      "Sanket Salunke\n"
     ]
    }
   ],
   "source": [
    "response = obj.get\n",
    "print(response[\"Item\"][\"name\"])"
   ]
  },
  {
   "cell_type": "code",
   "execution_count": 43,
   "metadata": {},
   "outputs": [],
   "source": [
    "obj.delete(emp_id=\"3\")"
   ]
  }
 ],
 "metadata": {
  "kernelspec": {
   "display_name": "Python 3",
   "language": "python",
   "name": "python3"
  },
  "language_info": {
   "codemirror_mode": {
    "name": "ipython",
    "version": 3
   },
   "file_extension": ".py",
   "mimetype": "text/x-python",
   "name": "python",
   "nbconvert_exporter": "python",
   "pygments_lexer": "ipython3",
   "version": "3.10.0"
  }
 },
 "nbformat": 4,
 "nbformat_minor": 2
}
